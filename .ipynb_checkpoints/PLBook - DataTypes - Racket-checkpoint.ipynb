{
 "cells": [
  {
   "cell_type": "markdown",
   "metadata": {},
   "source": [
    "# Racket\n",
    "\n",
    "Racket 的資料類型是繼承 Scheme 而來，因此 Scheme 有的類型，絕大部分 Racket 都有，而 Racket 為了實務上的需求，也額外增加了一些類型，或者修改 Scheme 原本的抽象資料類型 (record)，我們在此探討 Racket 的資料類型，偶有需求，我們會另外說明 Scheme 的資料類型。\n"
   ]
  },
  {
   "cell_type": "markdown",
   "metadata": {},
   "source": [
    "## Scalar\n",
    "\n",
    "Racket 的純量類型可分為以下幾類："
   ]
  },
  {
   "cell_type": "markdown",
   "metadata": {},
   "source": [
    "### boolean - 布林值\n",
    "\n",
    "布林值字面表示為 `#t` 與 `#f`，而在 Racket 中，繼承了 Scheme 的廣義布林定義方式：**false** 只能是 `#f`，而一切非 `#f` 的，全部都是 **true**，亦即等於 `#t`。而 `#t` 與 `#f` 的字母可兼容大小寫。"
   ]
  },
  {
   "cell_type": "code",
   "execution_count": 9,
   "metadata": {},
   "outputs": [
    {
     "data": {
      "text/html": [
       "<code>#t</code>"
      ],
      "text/plain": [
       "#t"
      ]
     },
     "execution_count": 9,
     "metadata": {},
     "output_type": "execute_result"
    }
   ],
   "source": [
    "(define a #t)\n",
    "(boolean? a) ;; #t\n",
    "\n",
    "(define b 1)\n",
    "(boolean? b) ;; #f\n",
    "\n",
    ";; 注意：這樣是 #t\n",
    "(if null #t #f)"
   ]
  },
  {
   "cell_type": "markdown",
   "metadata": {},
   "source": [
    "### number - 數值\n",
    "\n",
    "Racket 是一個學術味很重的語言，在數值系統上面，非常強調數值的精準性。如同 [Racket Refernece](https://docs.racket-lang.org/reference/numbers.html) 所說，所有的 Number 都是 _Complex Number (複數)_ ，而有些是 _Real Number (實數)_ ，而在實數之中，能被表示的，稱為 _Reason Number (有理數)_ ，而有理數之外，有幾項例外：\n",
    "\n",
    "1. `+inf.0` (正無限值)\n",
    "1. `+int.f` (正無限值單精度變形)\n",
    "1. `-inf.0` (負無限值)\n",
    "1. `-inf.f` (負無限值單精度變形)\n",
    "1. `+nan.0` (非數值)\n",
    "1. `+nan.f` (非數值單精度變形)\n",
    "\n",
    "而有理數中，有所謂的 _Integer (整數)_ ，其定義為，當有理數去小數點 (做 `round`) 之後，其值不變，則為整數。\n",
    "\n",
    "我們就從定義最狹窄的整數開始："
   ]
  },
  {
   "cell_type": "markdown",
   "metadata": {},
   "source": [
    "#### integer - 整數\n",
    "\n",
    "在 Racket，整數繼承了 Scheme 而來的大數特性，可以無上限至記憶體所許可的資料範圍："
   ]
  },
  {
   "cell_type": "code",
   "execution_count": 13,
   "metadata": {},
   "outputs": [
    {
     "data": {
      "text/html": [
       "<code>93326215443944152681699238856266700490715968264381621468592963895217599993229915608941463976156518286253697920827223758251185210916864000000000000000000000000</code>"
      ],
      "text/plain": [
       "93326215443944152681699238856266700490715968264381621468592963895217599993229915608941463976156518286253697920827223758251185210916864000000000000000000000000"
      ]
     },
     "execution_count": 13,
     "metadata": {},
     "output_type": "execute_result"
    }
   ],
   "source": [
    "(define n 100)\n",
    "\n",
    "(integer? n) ;; #t\n",
    "\n",
    "(define fact\n",
    "  (lambda (n)\n",
    "    (if (= n 0)\n",
    "        1\n",
    "        (* n (fact (- n 1))))))\n",
    "\n",
    "(fact 100)  ;; 93326215443944152681699238856266700490715968264381621468592963895217599993229915608941463976156518286253697920827223758251185210916864000000000000000000000000"
   ]
  },
  {
   "cell_type": "markdown",
   "metadata": {},
   "source": [
    "## Collection\n",
    "\n",
    "> 說明\n"
   ]
  },
  {
   "cell_type": "markdown",
   "metadata": {},
   "source": [
    "## Aggregate\n",
    "\n",
    "> 說明\n"
   ]
  },
  {
   "cell_type": "markdown",
   "metadata": {},
   "source": [
    "## Reference\n",
    "\n",
    "> 說明\n"
   ]
  },
  {
   "cell_type": "markdown",
   "metadata": {},
   "source": [
    "## TypeDefine\n",
    "\n",
    "> 說明\n"
   ]
  },
  {
   "cell_type": "markdown",
   "metadata": {},
   "source": [
    "## Others\n",
    "\n",
    "> 說明\n"
   ]
  },
  {
   "cell_type": "markdown",
   "metadata": {},
   "source": [
    "## Operation\n",
    "\n",
    "> 說明\n"
   ]
  }
 ],
 "metadata": {
  "kernelspec": {
   "display_name": "Racket",
   "language": "racket",
   "name": "racket"
  },
  "language_info": {
   "codemirror_mode": "scheme",
   "file_extension": ".rkt",
   "mimetype": "text/x-racket",
   "name": "Racket",
   "pygments_lexer": "racket",
   "version": "7.0"
  }
 },
 "nbformat": 4,
 "nbformat_minor": 2
}
